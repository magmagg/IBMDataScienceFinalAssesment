{
 "cells": [
  {
   "cell_type": "markdown",
   "id": "67f1cb3c-2117-42c4-84b2-bd4397dc7af1",
   "metadata": {},
   "source": [
    "# Data Science Tools and Ecosystem"
   ]
  },
  {
   "cell_type": "markdown",
   "id": "76470a45-1d24-458f-bb82-2572430a33d3",
   "metadata": {},
   "source": [
    "In this notebook, Data science Tools and Ecosystem are summarized"
   ]
  },
  {
   "cell_type": "markdown",
   "id": "4a544401-3de1-47b9-b2ac-995d6588b0bc",
   "metadata": {},
   "source": [
    "**Objectives:**\n",
    "- List some of the popular languages used in Data Science\n",
    "- List some of the commonly used libraries used by Data Scientists\n",
    "- Demonstrating the difference of markdown and code cells\n",
    "- Use table using Jupyter\n",
    "- Demonstrate arithmetic expressions using Jupyter Notebooks"
   ]
  },
  {
   "cell_type": "markdown",
   "id": "93cc69de-bf37-457b-8a61-7d111c520e04",
   "metadata": {},
   "source": [
    "Some of the popular languages that Data Scientists use are:\n",
    "\n",
    "1. Python\n",
    "2. R\n",
    "3. Structured Query Language or SQL"
   ]
  },
  {
   "cell_type": "markdown",
   "id": "e691826e-fbc0-42b9-9b17-d9c27b0bd6ea",
   "metadata": {},
   "source": [
    "Some of the commonly used libraries used by Data Scientists include:\n",
    "\n",
    "1. Pandas for data structures & Tools\n",
    "2. Matplotlib for plots & graphs\n",
    "3. Scikit-learn for Machine learning"
   ]
  },
  {
   "cell_type": "markdown",
   "id": "fe0ed92e-76ae-4d47-8a19-b74feabf6542",
   "metadata": {},
   "source": [
    "|Data Science Tools|\n",
    "|------------------|\n",
    "|Jupyter Notebooks and Jupyter Lab|\n",
    "|RStudio IDE|\n",
    "|GitHub|"
   ]
  },
  {
   "cell_type": "markdown",
   "id": "63f033eb-1a1d-4d0d-a3c0-26086e1ff556",
   "metadata": {},
   "source": [
    "### Below are a few examples of evaluating arithmetic expressions in Python"
   ]
  },
  {
   "cell_type": "code",
   "execution_count": 4,
   "id": "59720609-81bf-4e2f-a33c-1ef5b728d88f",
   "metadata": {},
   "outputs": [
    {
     "data": {
      "text/plain": [
       "17"
      ]
     },
     "execution_count": 4,
     "metadata": {},
     "output_type": "execute_result"
    }
   ],
   "source": [
    "# A simple arithmetic expression to multiply and add integers\n",
    "\n",
    "(3*4)+5"
   ]
  },
  {
   "cell_type": "code",
   "execution_count": 5,
   "id": "14d821c1-3e8b-4079-baaf-4cf01af799aa",
   "metadata": {},
   "outputs": [
    {
     "data": {
      "text/plain": [
       "3.3333333333333335"
      ]
     },
     "execution_count": 5,
     "metadata": {},
     "output_type": "execute_result"
    }
   ],
   "source": [
    "# This cell will demonstrate how to convert 200 minutes into hours by dividing by 60\n",
    "\n",
    "200/60"
   ]
  },
  {
   "cell_type": "markdown",
   "id": "6b8681fc-8172-4cc3-95d3-0ac3de9b5de5",
   "metadata": {},
   "source": [
    "## Author\n",
    "Lorenzo Sebastianne C. Magno"
   ]
  },
  {
   "cell_type": "code",
   "execution_count": null,
   "id": "01c81854-b868-480a-877f-e347b600bbdb",
   "metadata": {},
   "outputs": [],
   "source": []
  }
 ],
 "metadata": {
  "kernelspec": {
   "display_name": "Python 3 (ipykernel)",
   "language": "python",
   "name": "python3"
  },
  "language_info": {
   "codemirror_mode": {
    "name": "ipython",
    "version": 3
   },
   "file_extension": ".py",
   "mimetype": "text/x-python",
   "name": "python",
   "nbconvert_exporter": "python",
   "pygments_lexer": "ipython3",
   "version": "3.11.4"
  }
 },
 "nbformat": 4,
 "nbformat_minor": 5
}
